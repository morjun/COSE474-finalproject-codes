{
  "cells": [
    {
      "cell_type": "code",
      "execution_count": 1,
      "metadata": {
        "id": "pqtgFIxosBRt"
      },
      "outputs": [],
      "source": [
        "import os"
      ]
    },
    {
      "cell_type": "markdown",
      "metadata": {},
      "source": [
        "폴더 이름에 입력된 label을 텍스트 파일로 옮겨 적기"
      ]
    },
    {
      "cell_type": "code",
      "execution_count": 4,
      "metadata": {},
      "outputs": [
        {
          "ename": "SyntaxError",
          "evalue": "f-string expression part cannot include a backslash (383479553.py, line 11)",
          "output_type": "error",
          "traceback": [
            "\u001b[1;36m  Cell \u001b[1;32mIn[4], line 11\u001b[1;36m\u001b[0m\n\u001b[1;33m    f.write(f\"{os.path.join(folder,file_name).replace('\\\\','/')} {label}\\n\")\u001b[0m\n\u001b[1;37m                                                                           ^\u001b[0m\n\u001b[1;31mSyntaxError\u001b[0m\u001b[1;31m:\u001b[0m f-string expression part cannot include a backslash\n"
          ]
        }
      ],
      "source": [
        "def createLabelTxt(source_dir, dest_path, split_ratio=0.2, random_seed=42):\n",
        "    # 소스 디렉터리에서 파일 목록 가져오기\n",
        "    folder_list = os.listdir(source_dir)\n",
        "            \n",
        "    with open(dest_path, \"w\") as f:\n",
        "        for folder in folder_list:\n",
        "            file_list = os.listdir(os.path.join(source_dir, folder))\n",
        "            print(f\"folder: {folder}, file count: {len(file_list)}\")\n",
        "            label = folder.split(\"_\")[-1]\n",
        "            for file_name in file_list:\n",
        "                f.write(f\"{os.path.join(folder,file_name).replace(\"\\\\\",'/')} {label}\\n\")\n",
        "\n",
        "\n",
        "createLabelTxt(\"Dataset/personai_icartoonface_rectrain/icartoonface_rectrain/\", \"Dataset/personai_icartoonface_rectrain/train_lbl.txt\")"
      ]
    }
  ],
  "metadata": {
    "accelerator": "GPU",
    "colab": {
      "gpuType": "T4",
      "provenance": []
    },
    "kernelspec": {
      "display_name": "Python 3",
      "name": "python3"
    },
    "language_info": {
      "codemirror_mode": {
        "name": "ipython",
        "version": 3
      },
      "file_extension": ".py",
      "mimetype": "text/x-python",
      "name": "python",
      "nbconvert_exporter": "python",
      "pygments_lexer": "ipython3",
      "version": "3.11.4"
    }
  },
  "nbformat": 4,
  "nbformat_minor": 0
}
